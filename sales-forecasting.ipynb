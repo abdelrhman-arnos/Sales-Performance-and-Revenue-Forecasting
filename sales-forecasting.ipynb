{
 "cells": [
  {
   "cell_type": "code",
   "execution_count": null,
   "metadata": {},
   "outputs": [],
   "source": [
    "import pandas as pd\n",
    "import numpy as np\n",
    "import matplotlib.pyplot as plt"
   ]
  },
  {
   "cell_type": "code",
   "execution_count": null,
   "metadata": {},
   "outputs": [],
   "source": [
    "# Load all the datasets\n",
    "test_data = pd.read_csv('./datasets/test_data.csv')\n",
    "train_data = pd.read_csv('./datasets/train_data.csv')\n",
    "validation_data = pd.read_csv('./datasets/validation_data.csv')\n",
    "\n",
    "print(test_data.head())"
   ]
  },
  {
   "cell_type": "code",
   "execution_count": null,
   "metadata": {},
   "outputs": [],
   "source": [
    "# 1. A forecast of daily sales with a confidence interval, indicating the reliability of the forecasts.\n",
    "daily_sales = train_data.groupby('Date').agg(Mean = ('Total', 'mean'), Total = ('Total', 'sum'))\n",
    "print(daily_sales.head())"
   ]
  },
  {
   "cell_type": "code",
   "execution_count": null,
   "metadata": {
    "tags": [
     "parameters"
    ]
   },
   "outputs": [],
   "source": [
    "# 1. A forecast of monthly sales with a confidence interval, indicating the reliability of the forecasts.\n",
    "# On the train_data, group by Date, aggregate all the daily records to monthly records i.e. 1/12019 and 1/10/2019 to January 2019\n",
    "# And then aggregate the Total for having a mean and sum of all monthly's records\n",
    "train_data['Date'] = pd.to_datetime(train_data['Date'])\n",
    "train_data.set_index('Date', inplace = True)\n",
    "monthly_sales = train_data.groupby(pd.Grouper(freq = 'ME')).agg(Mean = ('Total', 'mean'), Total = ('Total', 'sum'))\n",
    "monthly_sales.index = monthly_sales.index.strftime('%B %Y')\n",
    "monthly_sales.reset_index(inplace = True)\n",
    "monthly_sales.rename(columns = {'index': 'Date'}, inplace = True)\n",
    "\n",
    "print(monthly_sales.head())"
   ]
  },
  {
   "cell_type": "code",
   "execution_count": null,
   "metadata": {},
   "outputs": [],
   "source": [
    "# 2. Insights into the primary factors driving sales trends."
   ]
  },
  {
   "cell_type": "code",
   "execution_count": null,
   "metadata": {},
   "outputs": [],
   "source": [
    "# 3. Recommendations for strategic actions based on the forecasted sales data."
   ]
  }
 ],
 "metadata": {
  "kernelspec": {
   "display_name": "Python 3",
   "language": "python",
   "name": "python3"
  },
  "language_info": {
   "codemirror_mode": {
    "name": "ipython",
    "version": 3
   },
   "file_extension": ".py",
   "mimetype": "text/x-python",
   "name": "python",
   "nbconvert_exporter": "python",
   "pygments_lexer": "ipython3",
   "version": "3.11.8"
  }
 },
 "nbformat": 4,
 "nbformat_minor": 2
}
