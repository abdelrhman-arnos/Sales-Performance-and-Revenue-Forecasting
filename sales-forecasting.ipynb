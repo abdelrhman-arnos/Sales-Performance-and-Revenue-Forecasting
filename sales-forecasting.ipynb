{
 "cells": [
  {
   "cell_type": "code",
   "execution_count": 83,
   "metadata": {},
   "outputs": [],
   "source": [
    "import pandas as pd\n",
    "import numpy as np\n",
    "import matplotlib.pyplot as plt"
   ]
  },
  {
   "cell_type": "code",
   "execution_count": 84,
   "metadata": {},
   "outputs": [
    {
     "name": "stdout",
     "output_type": "stream",
     "text": [
      "    Invoice ID Branch      City Customer type  Gender         Product line  \\\n",
      "0  109-86-4363      B  Mandalay        Member  Female    Sports and travel   \n",
      "1  695-28-6250      A    Yangon        Normal  Female    Sports and travel   \n",
      "2  420-18-8989      A    Yangon        Member  Female    Sports and travel   \n",
      "3  877-22-3308      A    Yangon        Member    Male    Health and beauty   \n",
      "4  549-03-9315      B  Mandalay        Normal    Male  Fashion accessories   \n",
      "\n",
      "   Unit price  Quantity  Tax 5%    Total       Date   Time      Payment  \\\n",
      "0       60.08         7  21.028  441.588  2/14/2019  11:36  Credit card   \n",
      "1       43.06         5  10.765  226.065   2/4/2019  16:38      Ewallet   \n",
      "2       51.52         8  20.608  432.768   2/2/2019  15:47         Cash   \n",
      "3       15.87        10   7.935  166.635  3/13/2019  16:40         Cash   \n",
      "4       94.87         8  37.948  796.908  2/12/2019  12:58      Ewallet   \n",
      "\n",
      "     cogs  gross margin percentage  gross income  Rating  \n",
      "0  420.56                 4.761905        21.028     4.5  \n",
      "1  215.30                 4.761905        10.765     7.7  \n",
      "2  412.16                 4.761905        20.608     9.6  \n",
      "3  158.70                 4.761905         7.935     5.8  \n",
      "4  758.96                 4.761905        37.948     8.7  \n"
     ]
    }
   ],
   "source": [
    "# Load all the datasets\n",
    "test_data = pd.read_csv('./datasets/test_data.csv')\n",
    "train_data = pd.read_csv('./datasets/train_data.csv')\n",
    "validation_data = pd.read_csv('./datasets/validation_data.csv')\n",
    "\n",
    "print(test_data.head())"
   ]
  },
  {
   "cell_type": "code",
   "execution_count": 85,
   "metadata": {},
   "outputs": [
    {
     "name": "stdout",
     "output_type": "stream",
     "text": [
      "                 Mean      Total\n",
      "Date                            \n",
      "1/1/2019   375.480000  2628.3600\n",
      "1/10/2019  413.142000  2891.9940\n",
      "1/11/2019  190.344000   761.3760\n",
      "1/12/2019  602.785313  4822.2825\n",
      "1/13/2019  272.212500  2177.7000\n"
     ]
    }
   ],
   "source": [
    "# 1. A forecast of daily sales with a confidence interval, indicating the reliability of the forecasts.\n",
    "daily_sales = train_data.groupby('Date').agg(Mean = ('Total', 'mean'), Total = ('Total', 'sum'))\n",
    "print(daily_sales.head())"
   ]
  },
  {
   "cell_type": "code",
   "execution_count": 86,
   "metadata": {
    "tags": [
     "parameters"
    ]
   },
   "outputs": [
    {
     "name": "stdout",
     "output_type": "stream",
     "text": [
      "            Date        Mean       Total\n",
      "0   January 2019  322.647617  67433.3520\n",
      "1  February 2019  321.094234  59723.5275\n",
      "2     March 2019  319.768793  65552.6025\n"
     ]
    },
    {
     "name": "stderr",
     "output_type": "stream",
     "text": [
      "C:\\Users\\abdel\\AppData\\Local\\Temp\\ipykernel_18504\\332750794.py:6: FutureWarning: 'M' is deprecated and will be removed in a future version, please use 'ME' instead.\n",
      "  monthly_sales = train_data.groupby(pd.Grouper(freq = 'M')).agg(Mean = ('Total', 'mean'), Total = ('Total', 'sum'))\n"
     ]
    }
   ],
   "source": [
    "# 1. A forecast of monthly sales with a confidence interval, indicating the reliability of the forecasts.\n",
    "# On the train_data, group by Date, aggregate all the daily records to monthly records i.e. 1/12019 and 1/10/2019 to January 2019\n",
    "# And then aggregate the Total for having a mean and sum of all monthly's records\n",
    "train_data['Date'] = pd.to_datetime(train_data['Date'])\n",
    "train_data.set_index('Date', inplace = True)\n",
    "monthly_sales = train_data.groupby(pd.Grouper(freq = 'M')).agg(Mean = ('Total', 'mean'), Total = ('Total', 'sum'))\n",
    "monthly_sales.index = monthly_sales.index.strftime('%B %Y')\n",
    "monthly_sales.reset_index(inplace = True)\n",
    "monthly_sales.rename(columns = {'index': 'Date'}, inplace = True)\n",
    "\n",
    "print(monthly_sales.head())"
   ]
  },
  {
   "cell_type": "code",
   "execution_count": 87,
   "metadata": {},
   "outputs": [],
   "source": [
    "# 2. Insights into the primary factors driving sales trends."
   ]
  },
  {
   "cell_type": "code",
   "execution_count": 88,
   "metadata": {},
   "outputs": [],
   "source": [
    "# 3. Recommendations for strategic actions based on the forecasted sales data."
   ]
  }
 ],
 "metadata": {
  "kernelspec": {
   "display_name": "Python 3",
   "language": "python",
   "name": "python3"
  },
  "language_info": {
   "codemirror_mode": {
    "name": "ipython",
    "version": 3
   },
   "file_extension": ".py",
   "mimetype": "text/x-python",
   "name": "python",
   "nbconvert_exporter": "python",
   "pygments_lexer": "ipython3",
   "version": "3.11.8"
  }
 },
 "nbformat": 4,
 "nbformat_minor": 2
}
