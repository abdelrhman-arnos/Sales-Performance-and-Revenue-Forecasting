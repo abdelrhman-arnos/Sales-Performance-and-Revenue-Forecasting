{
 "cells": [
  {
   "cell_type": "code",
   "execution_count": 3,
   "metadata": {},
   "outputs": [],
   "source": [
    "import pandas as pd\n",
    "import numpy as np\n",
    "import matplotlib.pyplot as plt"
   ]
  },
  {
   "cell_type": "code",
   "execution_count": 4,
   "metadata": {},
   "outputs": [
    {
     "name": "stdout",
     "output_type": "stream",
     "text": [
      "    Invoice ID Branch      City Customer type  Gender         Product line  \\\n",
      "0  109-86-4363      B  Mandalay        Member  Female    Sports and travel   \n",
      "1  695-28-6250      A    Yangon        Normal  Female    Sports and travel   \n",
      "2  420-18-8989      A    Yangon        Member  Female    Sports and travel   \n",
      "3  877-22-3308      A    Yangon        Member    Male    Health and beauty   \n",
      "4  549-03-9315      B  Mandalay        Normal    Male  Fashion accessories   \n",
      "\n",
      "   Unit price  Quantity  Tax 5%    Total       Date   Time      Payment  \\\n",
      "0       60.08         7  21.028  441.588  2/14/2019  11:36  Credit card   \n",
      "1       43.06         5  10.765  226.065   2/4/2019  16:38      Ewallet   \n",
      "2       51.52         8  20.608  432.768   2/2/2019  15:47         Cash   \n",
      "3       15.87        10   7.935  166.635  3/13/2019  16:40         Cash   \n",
      "4       94.87         8  37.948  796.908  2/12/2019  12:58      Ewallet   \n",
      "\n",
      "     cogs  gross margin percentage  gross income  Rating  \n",
      "0  420.56                 4.761905        21.028     4.5  \n",
      "1  215.30                 4.761905        10.765     7.7  \n",
      "2  412.16                 4.761905        20.608     9.6  \n",
      "3  158.70                 4.761905         7.935     5.8  \n",
      "4  758.96                 4.761905        37.948     8.7  \n"
     ]
    }
   ],
   "source": [
    "# Load all the datasets\n",
    "test_data = pd.read_csv('./datasets/test_data.csv')\n",
    "train_data = pd.read_csv('./datasets/train_data.csv')\n",
    "validation_data = pd.read_csv('./datasets/validation_data.csv')\n",
    "\n",
    "print(test_data.head())"
   ]
  },
  {
   "cell_type": "code",
   "execution_count": 62,
   "metadata": {},
   "outputs": [
    {
     "name": "stdout",
     "output_type": "stream",
     "text": [
      "                 Mean      Total\n",
      "Date                            \n",
      "1/1/2019   375.480000  2628.3600\n",
      "1/10/2019  413.142000  2891.9940\n",
      "1/11/2019  190.344000   761.3760\n",
      "1/12/2019  602.785313  4822.2825\n",
      "1/13/2019  272.212500  2177.7000\n"
     ]
    }
   ],
   "source": [
    "# 1. A forecast of monthly sales with a confidence interval, indicating the reliability of the forecasts.\n",
    "daily_sales = train_data.groupby('Date').agg(Mean = ('Total', 'mean'), Total = ('Total', 'sum'))\n",
    "\n",
    "print(daily_sales.head())"
   ]
  },
  {
   "cell_type": "code",
   "execution_count": null,
   "metadata": {},
   "outputs": [],
   "source": [
    "# 2. Insights into the primary factors driving sales trends."
   ]
  },
  {
   "cell_type": "code",
   "execution_count": null,
   "metadata": {},
   "outputs": [],
   "source": [
    "# 3. Recommendations for strategic actions based on the forecasted sales data."
   ]
  }
 ],
 "metadata": {
  "kernelspec": {
   "display_name": "Python 3",
   "language": "python",
   "name": "python3"
  },
  "language_info": {
   "codemirror_mode": {
    "name": "ipython",
    "version": 3
   },
   "file_extension": ".py",
   "mimetype": "text/x-python",
   "name": "python",
   "nbconvert_exporter": "python",
   "pygments_lexer": "ipython3",
   "version": "3.11.8"
  }
 },
 "nbformat": 4,
 "nbformat_minor": 2
}
